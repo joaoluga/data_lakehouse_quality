{
 "cells": [
  {
   "cell_type": "code",
   "execution_count": null,
   "id": "1a6bbf26-357e-46e8-9560-d24f3d45a24c",
   "metadata": {
    "tags": []
   },
   "outputs": [],
   "source": [
    "%pip install delta-spark==2.3.0\n",
    "%pip install soda-core-spark-df\n",
    "%pip install -U pandas==1.5.3"
   ]
  },
  {
   "cell_type": "code",
   "execution_count": null,
   "id": "d16218d1-ea7d-4731-8a1a-b97958ce1419",
   "metadata": {
    "tags": []
   },
   "outputs": [],
   "source": [
    "from packages.business_logic.dq_etl_workflow import DQETLWorkflow"
   ]
  },
  {
   "cell_type": "code",
   "execution_count": null,
   "id": "b4c9dd310e21c904",
   "metadata": {
    "collapsed": false,
    "jupyter": {
     "outputs_hidden": false
    },
    "tags": []
   },
   "outputs": [],
   "source": [
    "from pyspark import SparkConf\n",
    "from pyspark.sql import SparkSession\n",
    "import os\n",
    "import shutil\n",
    "\n",
    "\n",
    "spark_conf = SparkConf()\n",
    "spark_conf.set(\"spark.executor.memory\", \"6g\")\n",
    "spark_conf.set(\"spark.driver.memory\", \"6g\")\n",
    "spark_conf.set(\"spark.network.timeout\", \"600s\")\n",
    "spark_conf.set(\"spark.executor.instances\", \"4\")\n",
    "spark_conf.set(\"spark.executor.cores\", \"4\")\n",
    "spark_conf.set(\"spark.default.parallelism\", \"6\")\n",
    "spark_conf.set(\"spark.sql.shuffle.partitions\", \"6\")\n",
    "spark_conf.set(\"spark.sql.parquet.enableVectorizedReader\", \"true\")\n",
    "\n",
    "spark = SparkSession.builder.enableHiveSupport().config(\"spark.serializer\", \"org.apache.spark.serializer.KryoSerializer\") \\\n",
    ".config(\"spark.jars.packages\", \"io.delta:delta-core_2.12:2.2.0\") \\\n",
    ".config(\"spark.sql.extensions\", \"io.delta.sql.DeltaSparkSessionExtension\") \\\n",
    ".config(\"spark.sql.catalog.spark_catalog\",\"org.apache.spark.sql.delta.catalog.DeltaCatalog\") \\\n",
    ".config(conf=spark_conf).getOrCreate()"
   ]
  },
  {
   "cell_type": "code",
   "execution_count": null,
   "id": "f74fa915-f3e8-4257-b6f0-49425d151f04",
   "metadata": {
    "tags": []
   },
   "outputs": [],
   "source": [
    "def delete_directories():\n",
    "    for layer in [\"analytics\", \"raw\", \"trusted\"]:\n",
    "        for root, dirs, files in os.walk(os.path.join(os.getcwd(), \"layers\", layer)):\n",
    "            for file in files:\n",
    "                os.remove(os.path.join(root, file))\n",
    "            for dir in dirs:\n",
    "                shutil.rmtree(os.path.join(root, dir))\n",
    "            shutil.rmtree(os.path.join(os.getcwd(), \"layers\", layer))\n",
    "delete_directories()"
   ]
  },
  {
   "cell_type": "code",
   "execution_count": null,
   "id": "26ec3f808ac0d6e3",
   "metadata": {
    "collapsed": false,
    "jupyter": {
     "outputs_hidden": false
    },
    "tags": []
   },
   "outputs": [],
   "source": [
    "dq_etl_workflow = DQETLWorkflow(spark_session=spark, include_dq_workflow=False)\n",
    "dq_etl_workflow.execute()"
   ]
  },
  {
   "cell_type": "code",
   "execution_count": null,
   "id": "8ccea9fe-92e4-44a8-ac87-36f8b834ebb9",
   "metadata": {},
   "outputs": [],
   "source": []
  }
 ],
 "metadata": {
  "kernelspec": {
   "display_name": "Python 3 (ipykernel)",
   "language": "python",
   "name": "python3"
  },
  "language_info": {
   "codemirror_mode": {
    "name": "ipython",
    "version": 3
   },
   "file_extension": ".py",
   "mimetype": "text/x-python",
   "name": "python",
   "nbconvert_exporter": "python",
   "pygments_lexer": "ipython3",
   "version": "3.10.10"
  }
 },
 "nbformat": 4,
 "nbformat_minor": 5
}
